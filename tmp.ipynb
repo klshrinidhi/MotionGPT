{
 "cells": [
  {
   "cell_type": "code",
   "execution_count": 1,
   "metadata": {},
   "outputs": [],
   "source": [
    "import pathlib\n",
    "\n",
    "smplh_data_d = pathlib.Path.home() / 'HumanML3D/HumanML3D_amass_smplh'\n",
    "smplh_train_f = smplh_data_d / 'train.txt'\n",
    "smplh_test_f = smplh_data_d / 'test.txt'\n",
    "\n",
    "smplx_data_d = pathlib.Path.home() / 'HumanML3D/HumanML3D_amass_smplx'\n",
    "smplx_train_f = smplx_data_d / 'train.txt'\n",
    "smplx_test_f = smplx_data_d / 'test.txt'"
   ]
  },
  {
   "cell_type": "code",
   "execution_count": 3,
   "metadata": {},
   "outputs": [],
   "source": [
    "smplh_train = open(smplh_train_f).read().splitlines()\n",
    "smplh_test = open(smplh_test_f).read().splitlines()\n",
    "\n",
    "smplx_train = open(smplx_train_f).read().splitlines()\n",
    "smplx_test = open(smplx_test_f).read().splitlines()"
   ]
  },
  {
   "cell_type": "code",
   "execution_count": 4,
   "metadata": {},
   "outputs": [
    {
     "name": "stdout",
     "output_type": "stream",
     "text": [
      "################################################## smplh\n",
      "num train examples: 23384\n",
      "num test examples: 4384\n",
      "################################################## smplx\n",
      "num train examples: 30440\n",
      "num test examples: 3980\n"
     ]
    }
   ],
   "source": [
    "print('#'*50,'smplh')\n",
    "print('num train examples:',len(smplh_train))\n",
    "print('num test examples:',len(smplh_test))\n",
    "print('#'*50,'smplx')\n",
    "print('num train examples:',len(smplx_train))\n",
    "print('num test examples:',len(smplx_test))"
   ]
  },
  {
   "cell_type": "markdown",
   "metadata": {},
   "source": [
    "Intersection of train & test."
   ]
  },
  {
   "cell_type": "code",
   "execution_count": 5,
   "metadata": {},
   "outputs": [
    {
     "name": "stdout",
     "output_type": "stream",
     "text": [
      "################################################## smplh\n",
      "set()\n",
      "################################################## smplx\n",
      "set()\n"
     ]
    }
   ],
   "source": [
    "print('#'*50,'smplh')\n",
    "print(set(smplh_train).intersection(smplh_test))\n",
    "print('#'*50,'smplx')\n",
    "print(set(smplx_train).intersection(smplx_test))"
   ]
  },
  {
   "cell_type": "markdown",
   "metadata": {},
   "source": [
    "Intersection of train & test regardless of mirroring."
   ]
  },
  {
   "cell_type": "code",
   "execution_count": 6,
   "metadata": {},
   "outputs": [
    {
     "name": "stdout",
     "output_type": "stream",
     "text": [
      "################################################## smplh\n",
      "set()\n",
      "################################################## smplx\n",
      "set()\n"
     ]
    }
   ],
   "source": [
    "print('#'*50,'smplh')\n",
    "print(set(map(lambda e: e.replace('M',''),smplh_train)).intersection(map(lambda e: e.replace('M',''),smplh_test)))\n",
    "print('#'*50,'smplx')\n",
    "print(set(map(lambda e: e.replace('M',''),smplx_train)).intersection(map(lambda e: e.replace('M',''),smplx_test)))"
   ]
  },
  {
   "cell_type": "markdown",
   "metadata": {},
   "source": [
    "Check the temp pkl files written by MotionGPT."
   ]
  },
  {
   "cell_type": "code",
   "execution_count": 14,
   "metadata": {},
   "outputs": [],
   "source": [
    "import pickle\n",
    "\n",
    "smplh_tmp_d = smplh_data_d / 'tmp'\n",
    "smplx_tmp_d = smplx_data_d / 'tmp'\n",
    "\n",
    "smplh_train_data_f = smplh_tmp_d / 'train_data.pkl'\n",
    "smplh_test_data_f = smplh_tmp_d / 'test_data.pkl'\n",
    "\n",
    "smplx_train_data_f = smplx_tmp_d / 'train_data.pkl'\n",
    "smplx_test_data_f = smplx_tmp_d / 'test_data.pkl'\n",
    "\n",
    "smplh_train_index_f = smplh_tmp_d / 'train_index.pkl'\n",
    "smplh_test_index_f = smplh_tmp_d / 'test_index.pkl'\n",
    "\n",
    "smplx_train_index_f = smplx_tmp_d / 'train_index.pkl'\n",
    "smplx_test_index_f = smplx_tmp_d / 'test_index.pkl'"
   ]
  },
  {
   "cell_type": "code",
   "execution_count": 15,
   "metadata": {},
   "outputs": [],
   "source": [
    "smplh_train_data = pickle.load(open(smplh_train_data_f,'rb'))\n",
    "smplh_test_data = pickle.load(open(smplh_test_data_f,'rb'))\n",
    "\n",
    "smplx_train_data = pickle.load(open(smplx_train_data_f,'rb'))\n",
    "smplx_test_data = pickle.load(open(smplx_test_data_f,'rb'))"
   ]
  },
  {
   "cell_type": "code",
   "execution_count": 13,
   "metadata": {},
   "outputs": [
    {
     "name": "stdout",
     "output_type": "stream",
     "text": [
      "################################################## smplh\n",
      "train data: 24546\n",
      "test data: 4648\n",
      "################################################## smplx\n",
      "train data: 27441\n",
      "test data: 4123\n"
     ]
    }
   ],
   "source": [
    "print('#'*50,'smplh')\n",
    "print('train data:',len(smplh_train_data))\n",
    "print('test data:',len(smplh_test_data))\n",
    "print('#'*50,'smplx')\n",
    "print('train data:',len(smplx_train_data))\n",
    "print('test data:',len(smplx_test_data))"
   ]
  },
  {
   "cell_type": "code",
   "execution_count": 16,
   "metadata": {},
   "outputs": [],
   "source": [
    "smplh_train_index = pickle.load(open(smplh_train_index_f,'rb'))\n",
    "smplh_test_index = pickle.load(open(smplh_test_index_f,'rb'))\n",
    "\n",
    "smplx_train_index = pickle.load(open(smplx_train_index_f,'rb'))\n",
    "smplx_test_index = pickle.load(open(smplx_test_index_f,'rb'))"
   ]
  },
  {
   "cell_type": "code",
   "execution_count": 17,
   "metadata": {},
   "outputs": [
    {
     "name": "stdout",
     "output_type": "stream",
     "text": [
      "################################################## smplh\n",
      "train data: 24546\n",
      "test data: 4648\n",
      "################################################## smplx\n",
      "train data: 27441\n",
      "test data: 4267\n"
     ]
    }
   ],
   "source": [
    "print('#'*50,'smplh')\n",
    "print('train data:',len(smplh_train_index))\n",
    "print('test data:',len(smplh_test_index))\n",
    "print('#'*50,'smplx')\n",
    "print('train data:',len(smplx_train_index))\n",
    "print('test data:',len(smplx_test_index))"
   ]
  },
  {
   "cell_type": "code",
   "execution_count": 18,
   "metadata": {},
   "outputs": [
    {
     "data": {
      "text/plain": [
       "('A_000020', '000190', '000191')"
      ]
     },
     "execution_count": 18,
     "metadata": {},
     "output_type": "execute_result"
    }
   ],
   "source": [
    "smplx_train_index[:3]"
   ]
  }
 ],
 "metadata": {
  "kernelspec": {
   "display_name": "mgpt",
   "language": "python",
   "name": "python3"
  },
  "language_info": {
   "codemirror_mode": {
    "name": "ipython",
    "version": 3
   },
   "file_extension": ".py",
   "mimetype": "text/x-python",
   "name": "python",
   "nbconvert_exporter": "python",
   "pygments_lexer": "ipython3",
   "version": "3.10.14"
  }
 },
 "nbformat": 4,
 "nbformat_minor": 2
}
